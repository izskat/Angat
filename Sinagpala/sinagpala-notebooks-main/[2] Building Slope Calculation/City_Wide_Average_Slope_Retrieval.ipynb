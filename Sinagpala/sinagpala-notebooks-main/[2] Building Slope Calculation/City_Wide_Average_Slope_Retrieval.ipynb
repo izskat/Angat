{
 "cells": [
  {
   "cell_type": "code",
   "execution_count": 1,
   "id": "ba314e01",
   "metadata": {},
   "outputs": [],
   "source": [
    "import geopandas as gpd"
   ]
  },
  {
   "cell_type": "markdown",
   "id": "e8ae4b38",
   "metadata": {},
   "source": [
    "## Load the Marikina City buildings with slope values"
   ]
  },
  {
   "cell_type": "code",
   "execution_count": 2,
   "id": "21195069",
   "metadata": {},
   "outputs": [],
   "source": [
    "marikina_buildings  = gpd.read_file('./marikina_buildings_with_slope.geojson')"
   ]
  },
  {
   "cell_type": "code",
   "execution_count": 3,
   "id": "c9bf0bc6",
   "metadata": {},
   "outputs": [],
   "source": [
    "marikina_buildings_new = marikina_buildings[['id', 'slopecount', 'slopesum', 'slopemean', 'geometry']]"
   ]
  },
  {
   "cell_type": "code",
   "execution_count": 4,
   "id": "7b58e634",
   "metadata": {},
   "outputs": [
    {
     "data": {
      "text/plain": [
       "69835"
      ]
     },
     "execution_count": 4,
     "metadata": {},
     "output_type": "execute_result"
    }
   ],
   "source": [
    "len(marikina_buildings)"
   ]
  },
  {
   "cell_type": "markdown",
   "id": "4d05b037",
   "metadata": {},
   "source": [
    "## Remove rows with 0 values"
   ]
  },
  {
   "cell_type": "code",
   "execution_count": 5,
   "id": "d8593fbb",
   "metadata": {},
   "outputs": [],
   "source": [
    "marikina_buildings_new = marikina_buildings_new[marikina_buildings_new.slopecount != 0]"
   ]
  },
  {
   "cell_type": "markdown",
   "id": "09d2d68b",
   "metadata": {},
   "source": [
    "## Retrieve average for slope column"
   ]
  },
  {
   "cell_type": "code",
   "execution_count": 6,
   "id": "ffb68d8f",
   "metadata": {},
   "outputs": [
    {
     "data": {
      "text/plain": [
       "27.310053462249865"
      ]
     },
     "execution_count": 6,
     "metadata": {},
     "output_type": "execute_result"
    }
   ],
   "source": [
    "marikina_buildings_new['slopemean'].mean()"
   ]
  },
  {
   "cell_type": "code",
   "execution_count": 7,
   "id": "3b11221b",
   "metadata": {},
   "outputs": [
    {
     "name": "stdout",
     "output_type": "stream",
     "text": [
      "Range of slope values per pixel\n",
      "Min:  0.0\n",
      "Max:  74.75386276245118\n"
     ]
    }
   ],
   "source": [
    "print(\"Range of slope values per pixel\")\n",
    "print(\"Min: \", marikina_buildings_new['slopemean'].min())\n",
    "print(\"Max: \", marikina_buildings_new['slopemean'].max())"
   ]
  }
 ],
 "metadata": {
  "kernelspec": {
   "display_name": "pipeline",
   "language": "python",
   "name": "pipeline"
  },
  "language_info": {
   "codemirror_mode": {
    "name": "ipython",
    "version": 3
   },
   "file_extension": ".py",
   "mimetype": "text/x-python",
   "name": "python",
   "nbconvert_exporter": "python",
   "pygments_lexer": "ipython3",
   "version": "3.9.9"
  }
 },
 "nbformat": 4,
 "nbformat_minor": 5
}
