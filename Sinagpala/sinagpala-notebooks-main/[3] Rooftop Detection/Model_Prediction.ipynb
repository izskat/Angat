{
 "cells": [
  {
   "cell_type": "code",
   "execution_count": 1,
   "id": "a3ce71d8",
   "metadata": {},
   "outputs": [],
   "source": [
    "import torch\n",
    "\n",
    "from detectron2 import model_zoo\n",
    "from detectron2.modeling import build_model\n",
    "from detectron2.engine import DefaultPredictor, DefaultTrainer\n",
    "from detectron2.data.datasets import register_coco_instances\n",
    "from detectron2.data import DatasetCatalog, MetadataCatalog\n",
    "from detectron2.utils.visualizer import Visualizer\n",
    "from detectron2.utils.visualizer import ColorMode\n",
    "from detectron2.config import get_cfg\n",
    "import detectron2.config\n",
    "from detectron2.evaluation import COCOEvaluator, inference_on_dataset\n",
    "from detectron2.data import build_detection_test_loader\n",
    "\n",
    "# import some common libraries\n",
    "import numpy as np\n",
    "import os, json, cv2, random\n",
    "import matplotlib.pyplot as plt\n",
    "import csv"
   ]
  },
  {
   "cell_type": "markdown",
   "id": "121cffe1",
   "metadata": {},
   "source": [
    "## Load the dataset\n"
   ]
  },
  {
   "cell_type": "code",
   "execution_count": 2,
   "id": "88bade75",
   "metadata": {},
   "outputs": [
    {
     "name": "stdout",
     "output_type": "stream",
     "text": [
      "CUDAs available: 3\n"
     ]
    }
   ],
   "source": [
    "if torch.cuda.is_available():\n",
    "    print(f'CUDAs available: {torch.cuda.device_count()}')\n",
    "    torch.cuda.set_device(1) #Set default GPU here\n",
    "else:\n",
    "    print(\"CUDA is not available\")"
   ]
  },
  {
   "cell_type": "code",
   "execution_count": 3,
   "id": "570cc860",
   "metadata": {},
   "outputs": [
    {
     "name": "stdout",
     "output_type": "stream",
     "text": [
      "Output Directory: ./model_output_final\n"
     ]
    }
   ],
   "source": [
    "# Hyperparameters\n",
    "# UPDATE THESE\n",
    "checkpoint_name = \"model_0009999.pth\"\n",
    "model_dir = 'output_models/Rooftop Identification Model'\n",
    "backbone = 101\n",
    "num_classes = 19\n",
    "\n",
    "# Dataset to predict on\n",
    "# UPDATE THESE\n",
    "satImageDir = '../Satellite Image Retrieval/Satellite Images'\n",
    "satAnnDir = '../Satellite Image Retrieval/satellite_images_coco.json'\n",
    "\n",
    "# Output directory\n",
    "output_dir = './model_output_final'\n",
    "os.makedirs(output_dir, exist_ok=True)\n",
    "\n",
    "print(f'Output Directory: {output_dir}')"
   ]
  },
  {
   "cell_type": "code",
   "execution_count": 6,
   "id": "a845a2e9",
   "metadata": {},
   "outputs": [],
   "source": [
    "# Satellite images to predict\n",
    "register_coco_instances(\"satellite_images\", {}, satAnnDir, satImageDir)\n",
    "dataset = DatasetCatalog.get(\"satellite_images\")\n",
    "\n",
    "metadata=MetadataCatalog.get(\"satellite_images\")"
   ]
  },
  {
   "cell_type": "code",
   "execution_count": 7,
   "id": "71c406dc",
   "metadata": {},
   "outputs": [],
   "source": [
    "cfg = get_cfg()\n",
    "cfg.merge_from_file(model_zoo.get_config_file(f\"COCO-InstanceSegmentation/mask_rcnn_R_{backbone}_FPN_3x.yaml\"))\n",
    "cfg.DATASETS.TEST = (\"satellite_images\")\n",
    "cfg.MODEL.ROI_HEADS.NUM_CLASSES = num_classes   \n",
    "cfg.OUTPUT_DIR = output_dir\n",
    "\n",
    "# Load the weights from training\n",
    "cfg.MODEL.WEIGHTS = os.path.join(model_dir, checkpoint_name)  # path to the model we just trained\n",
    "cfg.MODEL.ROI_HEADS.SCORE_THRESH_TEST = 0.5   # set a custom testing threshold\n",
    "cfg.MODEL.RPN.NMS_THRESH = 0.5 # NMS threshold used on RPN proposals (default is 0.7)\n",
    "\n",
    "predictor = DefaultPredictor(cfg)"
   ]
  },
  {
   "cell_type": "markdown",
   "id": "43ea793c",
   "metadata": {},
   "source": [
    "### Perform model prediction"
   ]
  },
  {
   "cell_type": "code",
   "execution_count": 12,
   "id": "714d1949",
   "metadata": {
    "scrolled": true
   },
   "outputs": [
    {
     "name": "stdout",
     "output_type": "stream",
     "text": [
      "Loading and preparing results...\n",
      "DONE (t=0.43s)\n",
      "creating index...\n",
      "index created!\n",
      " Average Precision  (AP) @[ IoU=0.50:0.95 | area=   all | maxDets=100 ] = -1.000\n",
      " Average Precision  (AP) @[ IoU=0.50      | area=   all | maxDets=100 ] = -1.000\n",
      " Average Precision  (AP) @[ IoU=0.75      | area=   all | maxDets=100 ] = -1.000\n",
      " Average Precision  (AP) @[ IoU=0.50:0.95 | area= small | maxDets=100 ] = -1.000\n",
      " Average Precision  (AP) @[ IoU=0.50:0.95 | area=medium | maxDets=100 ] = -1.000\n",
      " Average Precision  (AP) @[ IoU=0.50:0.95 | area= large | maxDets=100 ] = -1.000\n",
      " Average Recall     (AR) @[ IoU=0.50:0.95 | area=   all | maxDets=  1 ] = -1.000\n",
      " Average Recall     (AR) @[ IoU=0.50:0.95 | area=   all | maxDets= 10 ] = -1.000\n",
      " Average Recall     (AR) @[ IoU=0.50:0.95 | area=   all | maxDets=100 ] = -1.000\n",
      " Average Recall     (AR) @[ IoU=0.50:0.95 | area= small | maxDets=100 ] = -1.000\n",
      " Average Recall     (AR) @[ IoU=0.50:0.95 | area=medium | maxDets=100 ] = -1.000\n",
      " Average Recall     (AR) @[ IoU=0.50:0.95 | area= large | maxDets=100 ] = -1.000\n",
      "Loading and preparing results...\n",
      "DONE (t=3.22s)\n",
      "creating index...\n",
      "index created!\n",
      " Average Precision  (AP) @[ IoU=0.50:0.95 | area=   all | maxDets=100 ] = -1.000\n",
      " Average Precision  (AP) @[ IoU=0.50      | area=   all | maxDets=100 ] = -1.000\n",
      " Average Precision  (AP) @[ IoU=0.75      | area=   all | maxDets=100 ] = -1.000\n",
      " Average Precision  (AP) @[ IoU=0.50:0.95 | area= small | maxDets=100 ] = -1.000\n",
      " Average Precision  (AP) @[ IoU=0.50:0.95 | area=medium | maxDets=100 ] = -1.000\n",
      " Average Precision  (AP) @[ IoU=0.50:0.95 | area= large | maxDets=100 ] = -1.000\n",
      " Average Recall     (AR) @[ IoU=0.50:0.95 | area=   all | maxDets=  1 ] = -1.000\n",
      " Average Recall     (AR) @[ IoU=0.50:0.95 | area=   all | maxDets= 10 ] = -1.000\n",
      " Average Recall     (AR) @[ IoU=0.50:0.95 | area=   all | maxDets=100 ] = -1.000\n",
      " Average Recall     (AR) @[ IoU=0.50:0.95 | area= small | maxDets=100 ] = -1.000\n",
      " Average Recall     (AR) @[ IoU=0.50:0.95 | area=medium | maxDets=100 ] = -1.000\n",
      " Average Recall     (AR) @[ IoU=0.50:0.95 | area= large | maxDets=100 ] = -1.000\n"
     ]
    }
   ],
   "source": [
    "evaluator = COCOEvaluator(\"satellite_images\", output_dir=cfg.OUTPUT_DIR)\n",
    "val_loader = build_detection_test_loader(cfg, \"satellite_images\")\n",
    "metric_dict = inference_on_dataset(predictor.model, val_loader, evaluator)"
   ]
  }
 ],
 "metadata": {
  "kernelspec": {
   "display_name": "pytorch_detectron",
   "language": "python",
   "name": "pytorch_detectron"
  },
  "language_info": {
   "codemirror_mode": {
    "name": "ipython",
    "version": 3
   },
   "file_extension": ".py",
   "mimetype": "text/x-python",
   "name": "python",
   "nbconvert_exporter": "python",
   "pygments_lexer": "ipython3",
   "version": "3.6.13"
  }
 },
 "nbformat": 4,
 "nbformat_minor": 5
}
