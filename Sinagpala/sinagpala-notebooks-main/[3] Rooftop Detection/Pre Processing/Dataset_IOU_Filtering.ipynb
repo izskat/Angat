{
 "cells": [
  {
   "cell_type": "markdown",
   "id": "a533bac4",
   "metadata": {},
   "source": [
    "### Dataset Extraction"
   ]
  },
  {
   "cell_type": "code",
   "execution_count": 1,
   "id": "4d4aa206",
   "metadata": {},
   "outputs": [
    {
     "name": "stdout",
     "output_type": "stream",
     "text": [
      "[('0', '1'), ('0', '2'), ('0', '3'), ('1', '2'), ('1', '3'), ('2', '3')]\n",
      "['Filename', '0-1', '0-2', '0-3', '1-2', '1-3', '2-3', 'Best Index', 'Best Score']\n"
     ]
    }
   ],
   "source": [
    "import zipfile\n",
    "import os\n",
    "from itertools import combinations\n",
    "import pandas as pd\n",
    "\n",
    "nameset = 'Dataset'\n",
    "annotators = ['Annotator A', 'Annotator B', 'Annotator C', 'Annotator D']\n",
    "annotators_idx = [f'{x}' for x in range(0, len(annotators))]\n",
    "datasets_zip = [f'[{annotator}] {nameset}.zip' for annotator in annotators]\n",
    "\n",
    "# unzip the uploaded annotation folders\n",
    "for dataset in datasets_zip:\n",
    "    with zipfile.ZipFile(os.path.join(nameset, dataset), 'r') as zip_ref:\n",
    "        dst_folder = dataset[:-4]\n",
    "        zip_ref.extractall(os.path.join(nameset, dst_folder))\n",
    "        with open(os.path.join(nameset, dst_folder, \"annotations\", \"instances_default.json\"), \"r\") as source, open(os.path.join(nameset, dst_folder, \"annotations.json\"), \"w\") as dst:\n",
    "            dst.write(source.read())\n",
    "\n",
    "combi = list(combinations(annotators_idx, 2))\n",
    "print(combi)\n",
    "column_title = ['-'.join(x) for x in combi]\n",
    "\n",
    "column_title.insert(0, 'Filename')\n",
    "df = pd.DataFrame(columns = column_title)"
   ]
  },
  {
   "cell_type": "markdown",
   "id": "84e07ac8",
   "metadata": {},
   "source": [
    "### Dataset Loading"
   ]
  },
  {
   "cell_type": "code",
   "execution_count": 2,
   "id": "6ca1604c",
   "metadata": {},
   "outputs": [],
   "source": [
    "import torch\n",
    "\n",
    "from detectron2 import model_zoo\n",
    "from detectron2.modeling import build_model\n",
    "from detectron2.engine import DefaultPredictor, DefaultTrainer\n",
    "from detectron2.data.datasets import register_coco_instances\n",
    "from detectron2.data import DatasetCatalog, MetadataCatalog\n",
    "from detectron2.utils.visualizer import Visualizer\n",
    "from detectron2.utils.visualizer import ColorMode\n",
    "from detectron2.config import get_cfg\n",
    "import detectron2.config\n",
    "from pycocotools.coco import COCO\n",
    "\n",
    "import numpy as np\n",
    "import os, json, cv2, random\n",
    "import matplotlib.pyplot as plt\n",
    "import csv"
   ]
  },
  {
   "cell_type": "code",
   "execution_count": 3,
   "id": "e912ab02",
   "metadata": {
    "scrolled": true
   },
   "outputs": [
    {
     "name": "stdout",
     "output_type": "stream",
     "text": [
      "dict_keys([\"[N] 255's Blanks\", \"[K] 255's Blanks\", \"[R] 255's Blanks\", \"[J] 255's Blanks\"])\n"
     ]
    }
   ],
   "source": [
    "#Load the datasets\n",
    "datasets = [x.split('.')[0] for x in datasets_zip]\n",
    "dataDirs = []\n",
    "annFiles = []\n",
    "metadatas = {}\n",
    "loaded_datasets = {}\n",
    "DatasetCatalog.clear()\n",
    "\n",
    "for dataset in datasets:\n",
    "    dataDir = os.path.join(nameset, dataset, \"images\")\n",
    "    annFile = os.path.join(nameset, dataset, \"annotations.json\")\n",
    "    with open(annFile, \"r\") as read_file:\n",
    "        annJson = json.load(read_file)\n",
    "        annFiles.append(annJson)\n",
    "\n",
    "    register_coco_instances(dataset, {}, annFile, dataDir)\n",
    "    loaded_datasets[dataset] = DatasetCatalog.get(dataset)\n",
    "    metadatas[dataset] = MetadataCatalog.get(dataset)\n",
    "\n",
    "print(loaded_datasets.keys())"
   ]
  },
  {
   "cell_type": "code",
   "execution_count": 4,
   "id": "cdf3b9ed",
   "metadata": {},
   "outputs": [],
   "source": [
    "def display(display_list):\n",
    "  plt.figure(figsize=(15, 15))\n",
    "\n",
    "  title = ['First', 'Second', 'Predicted Mask']\n",
    "\n",
    "  for i in range(len(display_list)):\n",
    "    plt.subplot(1, len(display_list), i+1)\n",
    "    plt.title(title[i])\n",
    "    plt.imshow(display_list[i])\n",
    "    plt.axis('off')\n",
    "  \n",
    "  plt.show()"
   ]
  },
  {
   "cell_type": "code",
   "execution_count": 5,
   "id": "bb29e5e9",
   "metadata": {},
   "outputs": [],
   "source": [
    "def getBinaryMask(imageObj, coco, catIds, input_image_size):\n",
    "    annIds = coco.getAnnIds(imageObj['image_id'], catIds=catIds, iscrowd=None)\n",
    "    anns = coco.loadAnns(annIds)\n",
    "    mask = np.zeros(input_image_size)\n",
    "    for a in range(len(anns)):\n",
    "        new_mask = cv2.resize(coco.annToMask(anns[a]), input_image_size)\n",
    "        \n",
    "        #Threshold because resizing may cause extraneous values\n",
    "        new_mask[new_mask >= 0.5] = 1\n",
    "        new_mask[new_mask < 0.5] = 0\n",
    "\n",
    "        mask = np.maximum(new_mask, mask)\n",
    "\n",
    "    # Add extra dimension for parity with train_img size [X * X * 3]\n",
    "    mask = mask.reshape(input_image_size[0], input_image_size[1], 1)\n",
    "    return mask"
   ]
  },
  {
   "cell_type": "code",
   "execution_count": 6,
   "id": "0294d3d6",
   "metadata": {},
   "outputs": [
    {
     "name": "stdout",
     "output_type": "stream",
     "text": [
      "loading annotations into memory...\n",
      "Done (t=0.03s)\n",
      "creating index...\n",
      "index created!\n",
      "255's Blanks/[N] 255's Blanks/images/marikinasatellite14.646710592744292_121.10705532806863.png\n",
      "loading annotations into memory...\n",
      "Done (t=0.68s)\n",
      "creating index...\n",
      "index created!\n",
      "loading annotations into memory...\n",
      "Done (t=0.02s)\n",
      "creating index...\n",
      "index created!\n",
      "loading annotations into memory...\n",
      "Done (t=0.04s)\n",
      "creating index...\n",
      "index created!\n"
     ]
    },
    {
     "data": {
      "image/png": "[encoded data removed]",
      "text/plain": [
       "<Figure size 1080x1080 with 2 Axes>"
      ]
     },
     "metadata": {
      "needs_background": "light"
     },
     "output_type": "display_data"
    }
   ],
   "source": [
    "display_list = []\n",
    "input_size = (512,512)\n",
    "filenames = []\n",
    "\n",
    "for dataset in loaded_datasets.keys():\n",
    "    coco=COCO(metadatas[dataset].get('json_file'))\n",
    "    catIds = coco.getCatIds(catNms=metadatas[dataset].get('thing_classes'))\n",
    "    col = []\n",
    "    for mask in loaded_datasets[dataset]:\n",
    "        im = cv2.imread(mask[\"file_name\"])\n",
    "        v = Visualizer(im[:, :, ::-1],\n",
    "                       metadata=metadatas[dataset], \n",
    "                       scale=1.2)\n",
    "        out = v.draw_dataset_dict(mask)\n",
    "        col.append(getBinaryMask(mask, coco, catIds[1:] , input_size))\n",
    "        filenames.append(mask[\"file_name\"])\n",
    "    display_list.append(col)\n",
    "        \n",
    "# display([display_list[0][1], display_list[1][1]])"
   ]
  },
  {
   "cell_type": "markdown",
   "id": "bdd29829",
   "metadata": {},
   "source": [
    "### IOU Calculation"
   ]
  },
  {
   "cell_type": "code",
   "execution_count": 7,
   "id": "8fcb4083",
   "metadata": {},
   "outputs": [
    {
     "data": {
      "text/html": [
       "<div>\n",
       "<style scoped>\n",
       "    .dataframe tbody tr th:only-of-type {\n",
       "        vertical-align: middle;\n",
       "    }\n",
       "\n",
       "    .dataframe tbody tr th {\n",
       "        vertical-align: top;\n",
       "    }\n",
       "\n",
       "    .dataframe thead th {\n",
       "        text-align: right;\n",
       "    }\n",
       "</style>\n",
       "<table border=\"1\" class=\"dataframe\">\n",
       "  <thead>\n",
       "    <tr style=\"text-align: right;\">\n",
       "      <th></th>\n",
       "      <th>0-1</th>\n",
       "      <th>0-2</th>\n",
       "      <th>0-3</th>\n",
       "      <th>1-2</th>\n",
       "      <th>1-3</th>\n",
       "      <th>2-3</th>\n",
       "      <th>Filename</th>\n",
       "    </tr>\n",
       "  </thead>\n",
       "  <tbody>\n",
       "    <tr>\n",
       "      <th>0</th>\n",
       "      <td>0.809330</td>\n",
       "      <td>0.825919</td>\n",
       "      <td>0.780204</td>\n",
       "      <td>0.748988</td>\n",
       "      <td>0.741051</td>\n",
       "      <td>0.859752</td>\n",
       "      <td>marikinasatellite14.646710592744292_121.106341...</td>\n",
       "    </tr>\n",
       "    <tr>\n",
       "      <th>1</th>\n",
       "      <td>NaN</td>\n",
       "      <td>NaN</td>\n",
       "      <td>NaN</td>\n",
       "      <td>NaN</td>\n",
       "      <td>0.825603</td>\n",
       "      <td>NaN</td>\n",
       "      <td>marikinasatellite14.646710592744292_121.107055...</td>\n",
       "    </tr>\n",
       "    <tr>\n",
       "      <th>2</th>\n",
       "      <td>0.860604</td>\n",
       "      <td>0.781486</td>\n",
       "      <td>0.778985</td>\n",
       "      <td>0.823725</td>\n",
       "      <td>0.841188</td>\n",
       "      <td>0.848973</td>\n",
       "      <td>marikinasatellite14.646710592744292_121.107769...</td>\n",
       "    </tr>\n",
       "    <tr>\n",
       "      <th>3</th>\n",
       "      <td>0.819168</td>\n",
       "      <td>0.784926</td>\n",
       "      <td>0.767317</td>\n",
       "      <td>0.807614</td>\n",
       "      <td>0.823482</td>\n",
       "      <td>0.820353</td>\n",
       "      <td>marikinasatellite14.646710592744292_121.108482...</td>\n",
       "    </tr>\n",
       "    <tr>\n",
       "      <th>4</th>\n",
       "      <td>NaN</td>\n",
       "      <td>NaN</td>\n",
       "      <td>NaN</td>\n",
       "      <td>0.855255</td>\n",
       "      <td>0.875565</td>\n",
       "      <td>0.821910</td>\n",
       "      <td>marikinasatellite14.647401270783632_121.099917...</td>\n",
       "    </tr>\n",
       "    <tr>\n",
       "      <th>...</th>\n",
       "      <td>...</td>\n",
       "      <td>...</td>\n",
       "      <td>...</td>\n",
       "      <td>...</td>\n",
       "      <td>...</td>\n",
       "      <td>...</td>\n",
       "      <td>...</td>\n",
       "    </tr>\n",
       "    <tr>\n",
       "      <th>68</th>\n",
       "      <td>0.896661</td>\n",
       "      <td>0.782031</td>\n",
       "      <td>0.829251</td>\n",
       "      <td>0.788148</td>\n",
       "      <td>0.851493</td>\n",
       "      <td>0.786714</td>\n",
       "      <td>marikinasatellite14.654308051177042_121.106341...</td>\n",
       "    </tr>\n",
       "    <tr>\n",
       "      <th>69</th>\n",
       "      <td>0.824980</td>\n",
       "      <td>0.815299</td>\n",
       "      <td>0.787272</td>\n",
       "      <td>0.809592</td>\n",
       "      <td>0.856158</td>\n",
       "      <td>0.780641</td>\n",
       "      <td>marikinasatellite14.654308051177042_121.107055...</td>\n",
       "    </tr>\n",
       "    <tr>\n",
       "      <th>70</th>\n",
       "      <td>0.698895</td>\n",
       "      <td>0.726371</td>\n",
       "      <td>NaN</td>\n",
       "      <td>0.857091</td>\n",
       "      <td>NaN</td>\n",
       "      <td>NaN</td>\n",
       "      <td>marikinasatellite14.654308051177042_121.107769...</td>\n",
       "    </tr>\n",
       "    <tr>\n",
       "      <th>71</th>\n",
       "      <td>0.814129</td>\n",
       "      <td>0.822781</td>\n",
       "      <td>0.807139</td>\n",
       "      <td>0.861848</td>\n",
       "      <td>0.842505</td>\n",
       "      <td>0.831295</td>\n",
       "      <td>marikinasatellite14.654308051177042_121.108482...</td>\n",
       "    </tr>\n",
       "    <tr>\n",
       "      <th>72</th>\n",
       "      <td>0.851486</td>\n",
       "      <td>0.755631</td>\n",
       "      <td>0.775472</td>\n",
       "      <td>0.770257</td>\n",
       "      <td>0.782224</td>\n",
       "      <td>0.834872</td>\n",
       "      <td>marikinasatellite14.65499872921638_121.1070553...</td>\n",
       "    </tr>\n",
       "  </tbody>\n",
       "</table>\n",
       "<p>73 rows × 7 columns</p>\n",
       "</div>"
      ],
      "text/plain": [
       "         0-1       0-2       0-3       1-2       1-3       2-3  \\\n",
       "0   0.809330  0.825919  0.780204  0.748988  0.741051  0.859752   \n",
       "1        NaN       NaN       NaN       NaN  0.825603       NaN   \n",
       "2   0.860604  0.781486  0.778985  0.823725  0.841188  0.848973   \n",
       "3   0.819168  0.784926  0.767317  0.807614  0.823482  0.820353   \n",
       "4        NaN       NaN       NaN  0.855255  0.875565  0.821910   \n",
       "..       ...       ...       ...       ...       ...       ...   \n",
       "68  0.896661  0.782031  0.829251  0.788148  0.851493  0.786714   \n",
       "69  0.824980  0.815299  0.787272  0.809592  0.856158  0.780641   \n",
       "70  0.698895  0.726371       NaN  0.857091       NaN       NaN   \n",
       "71  0.814129  0.822781  0.807139  0.861848  0.842505  0.831295   \n",
       "72  0.851486  0.755631  0.775472  0.770257  0.782224  0.834872   \n",
       "\n",
       "                                             Filename  \n",
       "0   marikinasatellite14.646710592744292_121.106341...  \n",
       "1   marikinasatellite14.646710592744292_121.107055...  \n",
       "2   marikinasatellite14.646710592744292_121.107769...  \n",
       "3   marikinasatellite14.646710592744292_121.108482...  \n",
       "4   marikinasatellite14.647401270783632_121.099917...  \n",
       "..                                                ...  \n",
       "68  marikinasatellite14.654308051177042_121.106341...  \n",
       "69  marikinasatellite14.654308051177042_121.107055...  \n",
       "70  marikinasatellite14.654308051177042_121.107769...  \n",
       "71  marikinasatellite14.654308051177042_121.108482...  \n",
       "72  marikinasatellite14.65499872921638_121.1070553...  \n",
       "\n",
       "[73 rows x 7 columns]"
      ]
     },
     "execution_count": 7,
     "metadata": {},
     "output_type": "execute_result"
    }
   ],
   "source": [
    "# PyTroch version\n",
    "SMOOTH = 1e-6\n",
    "\n",
    "def IoU(predict: torch.Tensor, target: torch.Tensor):\n",
    "\n",
    "    i = (predict & target).double().sum()\n",
    "    u = (predict | target).double().sum()\n",
    "    x = (i/u)\n",
    "    IoU = x.item()\n",
    "\n",
    "    return IoU\n",
    "\n",
    "df = pd.DataFrame()\n",
    "for i in range(0, len(display_list[0])):\n",
    "    IOU_scores = []\n",
    "    for x in combi:\n",
    "        ann1_idx = int(x[0])\n",
    "        ann2_idx = int(x[1])\n",
    "        iou_score = IoU(torch.Tensor(display_list[ann1_idx][i]).type(torch.IntTensor), \n",
    "                        torch.Tensor(display_list[ann2_idx][i]).type(torch.IntTensor))\n",
    "        if iou_score == 0:\n",
    "            iou_score = np.nan\n",
    "        IOU_scores.append(iou_score)\n",
    "\n",
    "    df_dict = {f'{column_title[x + 1]}': IOU_scores[x] for x in range(0, len(IOU_scores))}\n",
    "    df_dict['Filename'] = filenames[i].split('/')[3]\n",
    "    df = df.append(df_dict, ignore_index=True)\n",
    "    \n",
    "df"
   ]
  },
  {
   "cell_type": "code",
   "execution_count": 8,
   "id": "3167681b",
   "metadata": {},
   "outputs": [
    {
     "data": {
      "text/plain": [
       "71"
      ]
     },
     "execution_count": 8,
     "metadata": {},
     "output_type": "execute_result"
    }
   ],
   "source": [
    "filtered_df = df.dropna(thresh=3)\n",
    "filtered_df['avg_score'] = filtered_df.iloc[:,:6].mean(skipna=True, axis=1)\n",
    "filtered_df"
   ]
  },
  {
   "cell_type": "code",
   "execution_count": 11,
   "id": "90280dd7",
   "metadata": {},
   "outputs": [
    {
     "name": "stdout",
     "output_type": "stream",
     "text": [
      "IoU Threshold:  0.4\n",
      "No. of images that passed:  71\n",
      "IoU Threshold:  0.5\n",
      "No. of images that passed:  70\n",
      "IoU Threshold:  0.6\n",
      "No. of images that passed:  70\n",
      "IoU Threshold:  0.7\n",
      "No. of images that passed:  65\n",
      "IoU Threshold:  0.7999999999999999\n",
      "No. of images that passed:  46\n",
      "IoU Threshold:  0.8999999999999999\n",
      "No. of images that passed:  2\n"
     ]
    }
   ],
   "source": [
    "for i in np.arange(0.4, 1.0, 0.1):\n",
    "    print(\"IoU Threshold: \", i)\n",
    "    print(\"No. of images that passed: \", len(filtered_df[filtered_df['avg_score'] > i]))"
   ]
  },
  {
   "cell_type": "code",
   "execution_count": 13,
   "id": "680d45f5",
   "metadata": {},
   "outputs": [
    {
     "data": {
      "text/plain": [
       "65"
      ]
     },
     "execution_count": 13,
     "metadata": {},
     "output_type": "execute_result"
    }
   ],
   "source": [
    "filtered_df = filtered_df[filtered_df['avg_score'] > 0.7]\n",
    "len(filtered_df)"
   ]
  },
  {
   "cell_type": "markdown",
   "id": "755e7971",
   "metadata": {},
   "source": [
    "### JSON Building"
   ]
  },
  {
   "cell_type": "code",
   "execution_count": 15,
   "id": "6bf695db",
   "metadata": {},
   "outputs": [],
   "source": [
    "def createAnnotationJSON(annJson):\n",
    "    # Create a base json where we copy info, licenses, and categories\n",
    "    baseJson = {}\n",
    "    baseJson['info'] = annJson['info']\n",
    "    baseJson['licenses'] = annJson['licenses']\n",
    "    baseJson['categories'] = annJson['categories']\n",
    "    baseJson['images'] = []\n",
    "    baseJson['annotations'] = []\n",
    "    return baseJson"
   ]
  },
  {
   "cell_type": "code",
   "execution_count": 17,
   "id": "0e2ea048",
   "metadata": {},
   "outputs": [],
   "source": [
    "# Create a base json where we copy info, licenses, and categories\n",
    "baseJson = createAnnotationJSON(annFiles[0])"
   ]
  },
  {
   "cell_type": "code",
   "execution_count": 19,
   "id": "82167c4d",
   "metadata": {},
   "outputs": [],
   "source": [
    "from PIL import Image\n",
    "anno_ctr = 0\n",
    "img_dir = f'./{nameset}/[{annotators[0]}] {nameset}/images'\n",
    "output_filename = f'./{nameset}/filtered_images'\n",
    "os.makedirs(output_filename, exist_ok=True)\n",
    "\n",
    "for index, row in filtered_df.iterrows():\n",
    "    baseJson['images'].append({'id': index + 1,\n",
    "                              'width': 512,\n",
    "                              'height': 512,\n",
    "                              'file_name': row['Filename'],\n",
    "                              'license': 0,\n",
    "                              'flickr_url': '',\n",
    "                              'coco_url': '',\n",
    "                              'date_captured': 0})\n",
    "    \n",
    "    #we choose one of the annotator's drawings as the basis\n",
    "    for image in annFiles[1]['images']:\n",
    "        if image['file_name'] == row['Filename']:\n",
    "            img_id = image['id']\n",
    "            img = Image.open(os.path.join(img_dir, image['file_name'])) \n",
    "            img.save(os.path.join(output_filename, image['file_name']))\n",
    "            break\n",
    "    \n",
    "    for annotation in annFiles[1]['annotations']:\n",
    "        if annotation['image_id'] == img_id:\n",
    "            annotation['id'] = anno_ctr + 1\n",
    "            annotation['image_id'] = index + 1\n",
    "            anno_ctr += 1\n",
    "            baseJson['annotations'].append(annotation)"
   ]
  },
  {
   "cell_type": "code",
   "execution_count": 20,
   "id": "0db8ef36",
   "metadata": {},
   "outputs": [
    {
     "data": {
      "text/plain": [
       "65"
      ]
     },
     "execution_count": 20,
     "metadata": {},
     "output_type": "execute_result"
    }
   ],
   "source": [
    "len(os.listdir(output_filename))"
   ]
  },
  {
   "cell_type": "code",
   "execution_count": 21,
   "id": "dd16530e",
   "metadata": {},
   "outputs": [],
   "source": [
    "with open(os.path.join('./' + nameset + '/', \"annotation.json\"), \"w\") as write_file:\n",
    "    json.dump(baseJson, write_file)"
   ]
  },
  {
   "cell_type": "code",
   "execution_count": 22,
   "id": "828c279b",
   "metadata": {},
   "outputs": [
    {
     "data": {
      "text/plain": [
       "\"/home/jupyter-sinagpala/Old Dataset Runs/dataset/IOU Sampler/255's Blanks/filtered_images.zip\""
      ]
     },
     "execution_count": 22,
     "metadata": {},
     "output_type": "execute_result"
    }
   ],
   "source": [
    "import shutil\n",
    "\n",
    "dir_name = './' + nameset + '/filtered_images'\n",
    "output_filename = './' + nameset + '/filtered_images'\n",
    "\n",
    "shutil.make_archive(output_filename, 'zip', dir_name)"
   ]
  }
 ],
 "metadata": {
  "kernelspec": {
   "display_name": "pytorch_detectron",
   "language": "python",
   "name": "pytorch_detectron"
  },
  "language_info": {
   "codemirror_mode": {
    "name": "ipython",
    "version": 3
   },
   "file_extension": ".py",
   "mimetype": "text/x-python",
   "name": "python",
   "nbconvert_exporter": "python",
   "pygments_lexer": "ipython3",
   "version": "3.6.13"
  }
 },
 "nbformat": 4,
 "nbformat_minor": 5
}
