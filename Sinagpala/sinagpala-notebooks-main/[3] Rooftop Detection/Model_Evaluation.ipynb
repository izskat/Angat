{
 "cells": [
  {
   "cell_type": "code",
   "execution_count": 1,
   "id": "a3ce71d8",
   "metadata": {},
   "outputs": [],
   "source": [
    "import torch\n",
    "\n",
    "from detectron2 import model_zoo\n",
    "from detectron2.modeling import build_model\n",
    "from detectron2.engine import DefaultPredictor, DefaultTrainer\n",
    "from detectron2.data.datasets import register_coco_instances\n",
    "from detectron2.data import DatasetCatalog, MetadataCatalog\n",
    "from detectron2.evaluation import COCOEvaluator, inference_on_dataset\n",
    "from detectron2.data import build_detection_test_loader\n",
    "from detectron2.utils.visualizer import Visualizer\n",
    "from detectron2.utils.visualizer import ColorMode\n",
    "from detectron2.config import get_cfg\n",
    "import detectron2.config\n",
    "\n",
    "# import some common libraries\n",
    "import numpy as np\n",
    "import os\n",
    "import json\n",
    "import cv2\n",
    "import random\n",
    "import matplotlib.pyplot as plt\n",
    "import csv"
   ]
  },
  {
   "cell_type": "markdown",
   "id": "121cffe1",
   "metadata": {},
   "source": [
    "## Load the dataset\n"
   ]
  },
  {
   "cell_type": "code",
   "execution_count": 2,
   "id": "88bade75",
   "metadata": {},
   "outputs": [
    {
     "name": "stdout",
     "output_type": "stream",
     "text": [
      "CUDAs available: 3\n"
     ]
    }
   ],
   "source": [
    "# Select your GPU if available\n",
    "if torch.cuda.is_available():\n",
    "    print(f'CUDAs available: {torch.cuda.device_count()}')\n",
    "    torch.cuda.set_device(1) #Set default GPU here\n",
    "else:\n",
    "    print(\"CUDA is not available\")"
   ]
  },
  {
   "cell_type": "code",
   "execution_count": 3,
   "id": "570cc860",
   "metadata": {},
   "outputs": [
    {
     "name": "stdout",
     "output_type": "stream",
     "text": [
      "Train file: ./dataset_filtered (incomplete)/342_Set/augmented_with_rotations/augmented_train.json\n",
      "Validation File: ./dataset_filtered (incomplete)/342_Set/val/val.json\n",
      "Output Directory: ./output_models/X12-SAR-0.01-D-101-100000/342_Set\n"
     ]
    }
   ],
   "source": [
    "# Hyperparameters\n",
    "checkpoint_name = \"model_0009999.pth\"\n",
    "backbone = 101\n",
    "num_classes = 19\n",
    "filename = 'Rooftop Identification Model'\n",
    "\n",
    "# Datasets\n",
    "rootFolder = './Dataset'\n",
    "\n",
    "# Train\n",
    "trainDataDir = rootFolder + '/augmented_with_rotations'\n",
    "trainAnnFile = rootFolder + '/augmented_with_rotations/augmented_train.json'\n",
    "trainRoofAnnFile =  rootFolder + '/augmented_with_rotations/roof_train.json'\n",
    "trainSsAnnFile =  rootFolder + '/augmented_with_rotations/ss_train.json'\n",
    "\n",
    "# Test\n",
    "testDataDir = rootFolder + '/test/images'\n",
    "testAnnFile = rootFolder + '/test/test.json'\n",
    "testAnnFile = rootFolder + '/test/annotations_test_filtered_average_sample_group.json'\n",
    "testRoofAnnFile =  rootFolder + '/test/roof_test.json'\n",
    "testSsAnnFile =  rootFolder + '/test/ss_test.json'\n",
    "\n",
    "# Val\n",
    "valDataDir = rootFolder + '/val/images'\n",
    "valAnnFile = rootFolder + '/val/val.json'\n",
    "valRoofAnnFile =  rootFolder + '/val/roof_val.json'\n",
    "valSsAnnFile =  rootFolder + '/val/ss_val.json'\n",
    "\n",
    "# Output directory\n",
    "output_dir = f'./output_models/{filename}'\n",
    "\n",
    "print(f'Train file: {trainAnnFile}')\n",
    "print(f'Validation File: {valAnnFile}')\n",
    "print(f'Output Directory: {output_dir}')\n",
    "\n",
    "csv_filename = os.path.join(output_dir,'metrics_report.csv')"
   ]
  },
  {
   "cell_type": "code",
   "execution_count": 4,
   "id": "a845a2e9",
   "metadata": {},
   "outputs": [
    {
     "name": "stderr",
     "output_type": "stream",
     "text": [
      "Filtered out 82 instances without valid segmentation. There might be issues in your dataset generation process.  Please check https://detectron2.readthedocs.io/en/latest/tutorials/datasets.html carefully\n"
     ]
    }
   ],
   "source": [
    "register_coco_instances(\"train_dataset\", {}, trainAnnFile, trainDataDir)\n",
    "train_dataset = DatasetCatalog.get(\"train_dataset\")\n",
    "\n",
    "register_coco_instances(\"val_dataset\", {}, valAnnFile, valDataDir)\n",
    "val_dataset = DatasetCatalog.get(\"val_dataset\")\n",
    "\n",
    "register_coco_instances(\"test_dataset\", {}, testAnnFile, testDataDir)\n",
    "test_dataset = DatasetCatalog.get(\"test_dataset\")\n",
    "\n",
    "metadata=MetadataCatalog.get(\"train_dataset\")"
   ]
  },
  {
   "cell_type": "code",
   "execution_count": 5,
   "id": "71c406dc",
   "metadata": {},
   "outputs": [],
   "source": [
    "cfg = get_cfg()\n",
    "cfg.merge_from_file(model_zoo.get_config_file(f\"COCO-InstanceSegmentation/mask_rcnn_R_{backbone}_FPN_3x.yaml\"))\n",
    "cfg.DATASETS.TRAIN = (\"train_dataset\",)\n",
    "cfg.DATASETS.TEST = (\"test_dataset\")\n",
    "cfg.MODEL.ROI_HEADS.NUM_CLASSES = num_classes   \n",
    "cfg.OUTPUT_DIR = output_dir\n",
    "\n",
    "# Load the weights from training\n",
    "cfg.MODEL.WEIGHTS = os.path.join(output_dir, checkpoint_name)  # path to the model we just trained\n",
    "cfg.MODEL.ROI_HEADS.SCORE_THRESH_TEST = 0.5   # set a custom testing threshold\n",
    "cfg.MODEL.RPN.NMS_THRESH = 0.5\n",
    "\n",
    "predictor = DefaultPredictor(cfg)"
   ]
  },
  {
   "cell_type": "code",
   "execution_count": 6,
   "id": "feed062e",
   "metadata": {},
   "outputs": [],
   "source": [
    "def display(filename, display_list):\n",
    "#   plt.figure(figsize=(15, 5))\n",
    "  plt.figure(figsize=(40, 40))\n",
    "\n",
    "\n",
    "  title = ['Input Image', 'True Mask', 'Predicted Mask']\n",
    "\n",
    "  for i in range(len(display_list)):\n",
    "    plt.subplot(1, len(display_list), i+1)\n",
    "    plt.title(title[i])\n",
    "    plt.imshow(display_list[i])\n",
    "    \n",
    "    plt.figure(figsize=(40,40))\n",
    "    \n",
    "    plt.axis('off')\n",
    "  \n",
    "  print(filename)\n",
    "  filename = os.path.join(cfg.OUTPUT_DIR, filename.split('/')[-1])\n",
    "  print(filename)\n",
    "  plt.savefig(filename)\n",
    "    \n",
    "  plt.show()"
   ]
  },
  {
   "cell_type": "markdown",
   "id": "43ea793c",
   "metadata": {},
   "source": [
    "### Metrics Calculation"
   ]
  },
  {
   "cell_type": "code",
   "execution_count": 12,
   "id": "714d1949",
   "metadata": {
    "scrolled": true
   },
   "outputs": [
    {
     "name": "stdout",
     "output_type": "stream",
     "text": [
      "Loading and preparing results...\n",
      "DONE (t=0.00s)\n",
      "creating index...\n",
      "index created!\n",
      " Average Precision  (AP) @[ IoU=0.50:0.95 | area=   all | maxDets=100 ] = 0.373\n",
      " Average Precision  (AP) @[ IoU=0.50      | area=   all | maxDets=100 ] = 0.483\n",
      " Average Precision  (AP) @[ IoU=0.75      | area=   all | maxDets=100 ] = 0.423\n",
      " Average Precision  (AP) @[ IoU=0.50:0.95 | area= small | maxDets=100 ] = 0.298\n",
      " Average Precision  (AP) @[ IoU=0.50:0.95 | area=medium | maxDets=100 ] = 0.439\n",
      " Average Precision  (AP) @[ IoU=0.50:0.95 | area= large | maxDets=100 ] = 0.772\n",
      " Average Recall     (AR) @[ IoU=0.50:0.95 | area=   all | maxDets=  1 ] = 0.140\n",
      " Average Recall     (AR) @[ IoU=0.50:0.95 | area=   all | maxDets= 10 ] = 0.391\n",
      " Average Recall     (AR) @[ IoU=0.50:0.95 | area=   all | maxDets=100 ] = 0.428\n",
      " Average Recall     (AR) @[ IoU=0.50:0.95 | area= small | maxDets=100 ] = 0.306\n",
      " Average Recall     (AR) @[ IoU=0.50:0.95 | area=medium | maxDets=100 ] = 0.519\n",
      " Average Recall     (AR) @[ IoU=0.50:0.95 | area= large | maxDets=100 ] = 0.839\n",
      "Loading and preparing results...\n",
      "DONE (t=0.03s)\n",
      "creating index...\n",
      "index created!\n",
      " Average Precision  (AP) @[ IoU=0.50:0.95 | area=   all | maxDets=100 ] = 0.337\n",
      " Average Precision  (AP) @[ IoU=0.50      | area=   all | maxDets=100 ] = 0.477\n",
      " Average Precision  (AP) @[ IoU=0.75      | area=   all | maxDets=100 ] = 0.403\n",
      " Average Precision  (AP) @[ IoU=0.50:0.95 | area= small | maxDets=100 ] = 0.239\n",
      " Average Precision  (AP) @[ IoU=0.50:0.95 | area=medium | maxDets=100 ] = 0.412\n",
      " Average Precision  (AP) @[ IoU=0.50:0.95 | area= large | maxDets=100 ] = 0.796\n",
      " Average Recall     (AR) @[ IoU=0.50:0.95 | area=   all | maxDets=  1 ] = 0.130\n",
      " Average Recall     (AR) @[ IoU=0.50:0.95 | area=   all | maxDets= 10 ] = 0.358\n",
      " Average Recall     (AR) @[ IoU=0.50:0.95 | area=   all | maxDets=100 ] = 0.387\n",
      " Average Recall     (AR) @[ IoU=0.50:0.95 | area= small | maxDets=100 ] = 0.270\n",
      " Average Recall     (AR) @[ IoU=0.50:0.95 | area=medium | maxDets=100 ] = 0.476\n",
      " Average Recall     (AR) @[ IoU=0.50:0.95 | area= large | maxDets=100 ] = 0.799\n",
      "Bbox AP:  37.3283335499534\n",
      "Segmentation AP:  33.66049832396523\n"
     ]
    }
   ],
   "source": [
    "evaluator = COCOEvaluator(\"test_dataset\", output_dir=os.path.join(cfg.OUTPUT_DIR,'test_scores'))\n",
    "val_loader = build_detection_test_loader(cfg, \"test_dataset\")\n",
    "metric_dict = inference_on_dataset(predictor.model, val_loader, evaluator)\n",
    "\n",
    "print('Bbox AP: ', metric_dict['bbox']['AP'])\n",
    "print('Segmentation AP: ', metric_dict['segm']['AP'])"
   ]
  },
  {
   "cell_type": "code",
   "execution_count": 13,
   "id": "82d12337",
   "metadata": {},
   "outputs": [
    {
     "data": {
      "text/plain": [
       "OrderedDict([('bbox',\n",
       "              {'AP': 37.3283335499534,\n",
       "               'AP50': 48.3428566388369,\n",
       "               'AP75': 42.3256754925773,\n",
       "               'APs': 29.816291801077583,\n",
       "               'APm': 43.932979096526026,\n",
       "               'APl': 77.19083872672982,\n",
       "               'AP-Superstructure': nan,\n",
       "               'AP-FLAT': nan,\n",
       "               'AP-WNW': 47.433449008580006,\n",
       "               'AP-N': 29.691803766842856,\n",
       "               'AP-NNW': 43.939939878110614,\n",
       "               'AP-NW': 26.593277748827514,\n",
       "               'AP-W': 24.712871287128714,\n",
       "               'AP-WSW': 46.11034327637947,\n",
       "               'AP-SW': 13.131541725601132,\n",
       "               'AP-SSW': nan,\n",
       "               'AP-S': 50.81367944486757,\n",
       "               'AP-SSE': 51.41702875799703,\n",
       "               'AP-SE': 46.699017154462695,\n",
       "               'AP-ESE': 52.52091827098797,\n",
       "               'AP-E': 18.11221122112211,\n",
       "               'AP-ENE': 40.75502160178424,\n",
       "               'AP-NE': 30.665566556655666,\n",
       "               'AP-NNE': nan}),\n",
       "             ('segm',\n",
       "              {'AP': 33.66049832396523,\n",
       "               'AP50': 47.724370459924735,\n",
       "               'AP75': 40.34335966916066,\n",
       "               'APs': 23.879748508781457,\n",
       "               'APm': 41.19904906286932,\n",
       "               'APl': 79.62087458745874,\n",
       "               'AP-Superstructure': nan,\n",
       "               'AP-FLAT': nan,\n",
       "               'AP-WNW': 38.87047432779349,\n",
       "               'AP-N': 26.337168129768447,\n",
       "               'AP-NNW': 43.52260557275513,\n",
       "               'AP-NW': 17.74207683926287,\n",
       "               'AP-W': 22.93069306930693,\n",
       "               'AP-WSW': 43.52405213811749,\n",
       "               'AP-SW': 12.773691654879773,\n",
       "               'AP-SSW': nan,\n",
       "               'AP-S': 50.931962427011925,\n",
       "               'AP-SSE': 45.56384035671567,\n",
       "               'AP-SE': 45.99107987721849,\n",
       "               'AP-ESE': 43.637337436946765,\n",
       "               'AP-E': 14.805280528052803,\n",
       "               'AP-ENE': 39.14759583727797,\n",
       "               'AP-NE': 25.469118340405466,\n",
       "               'AP-NNE': nan})])"
      ]
     },
     "execution_count": 13,
     "metadata": {},
     "output_type": "execute_result"
    }
   ],
   "source": [
    "metric_dict"
   ]
  },
  {
   "cell_type": "code",
   "execution_count": 14,
   "id": "8f92e5a8",
   "metadata": {},
   "outputs": [],
   "source": [
    "with open(csv_filename, 'w') as f:  # You will need 'wb' mode in Python 2.x\n",
    "    w = csv.DictWriter(f, metric_dict['bbox'].keys())\n",
    "    w.writeheader()\n",
    "    w.writerow(metric_dict['bbox'])\n",
    "    w.writerow(metric_dict['segm'])"
   ]
  },
  {
   "cell_type": "code",
   "execution_count": 15,
   "id": "c2a53bb7",
   "metadata": {},
   "outputs": [],
   "source": [
    "#Validation Loss\n",
    "def load_json_arr(json_path):\n",
    "    lines = []\n",
    "    with open(json_path, 'r') as f:\n",
    "        for line in f:\n",
    "            lines.append(json.loads(line))\n",
    "    return lines"
   ]
  },
  {
   "cell_type": "code",
   "execution_count": 16,
   "id": "17a0093f",
   "metadata": {},
   "outputs": [
    {
     "name": "stdout",
     "output_type": "stream",
     "text": [
      "./output_models/X12-SAR-0.01-D-101-100000/342_Set/model_loss.png\n"
     ]
    },
    {
     "data": {
      "image/png": "[encoded data removed]",
      "text/plain": [
       "<Figure size 432x288 with 1 Axes>"
      ]
     },
     "metadata": {
      "needs_background": "light"
     },
     "output_type": "display_data"
    },
    {
     "name": "stdout",
     "output_type": "stream",
     "text": [
      "./output_models/X12-SAR-0.01-D-101-100000/342_Set/model_lr.png\n"
     ]
    },
    {
     "data": {
      "image/png": "[encoded data removed]",
      "text/plain": [
       "<Figure size 432x288 with 1 Axes>"
      ]
     },
     "metadata": {
      "needs_background": "light"
     },
     "output_type": "display_data"
    }
   ],
   "source": [
    "metrics = load_json_arr(output_dir + '/metrics.json')\n",
    "metrics = [x for x in metrics if x['iteration'] < 12000]\n",
    "# TRAINING AND VALIDATION LOSS\n",
    "plt.plot(\n",
    "    [x['iteration'] for x in metrics if 'total_loss' in x],\n",
    "    [x['total_loss'] for x in metrics if 'total_loss' in x])\n",
    "plt.legend(['training_loss'], loc='upper left')\n",
    "plt_title = 'Training Loss'\n",
    "\n",
    "plt.plot(\n",
    "    [x['iteration'] for x in metrics if 'validation_loss' in x], \n",
    "    [x['validation_loss'] for x in metrics if 'validation_loss' in x])\n",
    "plt.legend(['total_loss', 'validation_loss'], loc='upper left')\n",
    "plt_title = 'Training and Validation Loss'\n",
    "    \n",
    "plt.grid(b=True)\n",
    "plt.title(plt_title)\n",
    "plt.xlabel('Iterations', fontsize=16)\n",
    "plt.ylabel('Value', fontsize=16)\n",
    "\n",
    "loss_filename = os.path.join(cfg.OUTPUT_DIR, 'model_loss.png')\n",
    "print(loss_filename)\n",
    "plt.savefig(loss_filename)\n",
    "plt.show()\n",
    "\n",
    "# LEARNING RATE\n",
    "plt.plot(\n",
    "    [x['iteration'] for x in metrics if 'lr' in x],\n",
    "    [x['lr'] for x in metrics if 'lr' in x])\n",
    "plt.grid(b=True)\n",
    "plt.title('Learning Rate')\n",
    "plt.xlabel('Iterations', fontsize=16)\n",
    "plt.ylabel('Value', fontsize=16)\n",
    "\n",
    "loss_filename = os.path.join(cfg.OUTPUT_DIR, 'model_lr.png')\n",
    "print(loss_filename)\n",
    "plt.savefig(loss_filename)\n",
    "plt.show()"
   ]
  }
 ],
 "metadata": {
  "kernelspec": {
   "display_name": "pytorch_detectron",
   "language": "python",
   "name": "pytorch_detectron"
  },
  "language_info": {
   "codemirror_mode": {
    "name": "ipython",
    "version": 3
   },
   "file_extension": ".py",
   "mimetype": "text/x-python",
   "name": "python",
   "nbconvert_exporter": "python",
   "pygments_lexer": "ipython3",
   "version": "3.6.13"
  }
 },
 "nbformat": 4,
 "nbformat_minor": 5
}
