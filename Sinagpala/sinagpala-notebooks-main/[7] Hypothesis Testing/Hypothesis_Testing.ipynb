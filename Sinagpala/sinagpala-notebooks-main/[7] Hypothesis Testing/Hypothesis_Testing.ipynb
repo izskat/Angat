{
 "cells": [
  {
   "cell_type": "code",
   "execution_count": 2,
   "metadata": {
    "id": "qateHY1ngki0"
   },
   "outputs": [],
   "source": [
    "import pandas as pd\n",
    "import geopandas as gpd\n",
    "from scipy import stats\n",
    "import numpy as np"
   ]
  },
  {
   "cell_type": "markdown",
   "metadata": {
    "id": "p6OqRenhiEFQ"
   },
   "source": [
    "## Import file"
   ]
  },
  {
   "cell_type": "code",
   "execution_count": 3,
   "metadata": {
    "id": "Utcf84UCgnH7"
   },
   "outputs": [],
   "source": [
    "gdf = gpd.read_file('./hypo_testing_data_2007_2018.geojson')"
   ]
  },
  {
   "cell_type": "markdown",
   "metadata": {
    "id": "EeXPKZ1Vg4hJ"
   },
   "source": [
    "note: \n",
    "- current solar potential data sample does not yet utilize 2007-2018 meteorological data\n",
    "- data sample excluded buildings with -999 values (no value)"
   ]
  },
  {
   "cell_type": "markdown",
   "metadata": {
    "id": "FtA93tmciF5g"
   },
   "source": [
    "## File Overview"
   ]
  },
  {
   "cell_type": "code",
   "execution_count": 4,
   "metadata": {
    "colab": {
     "base_uri": "https://localhost:8080/"
    },
    "id": "yMKLIdR8gyWr",
    "outputId": "eb56cd77-9c32-4cfe-9ef0-00faaa3c8f1a"
   },
   "outputs": [
    {
     "name": "stdout",
     "output_type": "stream",
     "text": [
      "Index(['id', 'address', 'num_panels', 'panel_area', 'kWp', 'total_kwh',\n",
      "       'avg_month_1', 'avg_month_2', 'avg_month_3', 'avg_month_4',\n",
      "       'avg_month_5', 'avg_month_6', 'avg_month_7', 'avg_month_8',\n",
      "       'avg_month_9', 'avg_month_10', 'avg_month_11', 'avg_month_12',\n",
      "       'PVOUT_yearly', 'PVOUT_month_1', 'PVOUT_month_2', 'PVOUT_month_3',\n",
      "       'PVOUT_month_4', 'PVOUT_month_5', 'PVOUT_month_6', 'PVOUT_month_7',\n",
      "       'PVOUT_month_8', 'PVOUT_month_9', 'PVOUT_month_10', 'PVOUT_month_11',\n",
      "       'PVOUT_month_12', 'geometry'],\n",
      "      dtype='object')\n"
     ]
    }
   ],
   "source": [
    "print(gdf.columns)"
   ]
  },
  {
   "cell_type": "markdown",
   "metadata": {
    "id": "cexXcEVUhVxu"
   },
   "source": [
    "Sinagpala columns:\n",
    "- `total_kwh` -> YEARLY (kWh)\n",
    "- `avg_month_1` - `avg_month_12` -> MONTHLY (kWh)\n",
    "\n",
    "GlobalSolarAtlas columns:\n",
    "- `PVOUT_yearly` -> (Long-term Average Yearly 2007-2018) (kWh)\n",
    "- `PVOUT_month_1` - `PVOUT_month_12` -> (Long-term Average Monthly 2007-2018) (kWh)"
   ]
  },
  {
   "cell_type": "markdown",
   "metadata": {
    "id": "ID_zCMRrh4ei"
   },
   "source": [
    "GlobalSolarAtlas PVOUT values have already been converted from kWh/kWp to kWh in GlobalSolarAtlas/hypo_testing_data_generator.ipynb https://colab.research.google.com/drive/1q4uGxJIUTpvq_U9BKCGtb3JeX9rv-zcZ#scrollTo=ntzLviJyRsHp"
   ]
  },
  {
   "cell_type": "code",
   "execution_count": 5,
   "metadata": {
    "colab": {
     "base_uri": "https://localhost:8080/"
    },
    "id": "mfdKl43qlp2Z",
    "outputId": "56a4819c-80af-4e20-f521-1e83fe99f568"
   },
   "outputs": [
    {
     "data": {
      "text/plain": [
       "36084"
      ]
     },
     "execution_count": 5,
     "metadata": {},
     "output_type": "execute_result"
    }
   ],
   "source": [
    "len(gdf)"
   ]
  },
  {
   "cell_type": "code",
   "execution_count": 6,
   "metadata": {
    "colab": {
     "base_uri": "https://localhost:8080/",
     "height": 716
    },
    "id": "BlPSUTvsiBWW",
    "outputId": "ada9c50f-bf63-42d5-e47b-f93f443fe8f9"
   },
   "outputs": [
    {
     "data": {
      "text/html": [
       "<div>\n",
       "<style scoped>\n",
       "    .dataframe tbody tr th:only-of-type {\n",
       "        vertical-align: middle;\n",
       "    }\n",
       "\n",
       "    .dataframe tbody tr th {\n",
       "        vertical-align: top;\n",
       "    }\n",
       "\n",
       "    .dataframe thead th {\n",
       "        text-align: right;\n",
       "    }\n",
       "</style>\n",
       "<table border=\"1\" class=\"dataframe\">\n",
       "  <thead>\n",
       "    <tr style=\"text-align: right;\">\n",
       "      <th></th>\n",
       "      <th>id</th>\n",
       "      <th>address</th>\n",
       "      <th>num_panels</th>\n",
       "      <th>panel_area</th>\n",
       "      <th>kWp</th>\n",
       "      <th>total_kwh</th>\n",
       "      <th>avg_month_1</th>\n",
       "      <th>avg_month_2</th>\n",
       "      <th>avg_month_3</th>\n",
       "      <th>avg_month_4</th>\n",
       "      <th>...</th>\n",
       "      <th>PVOUT_month_4</th>\n",
       "      <th>PVOUT_month_5</th>\n",
       "      <th>PVOUT_month_6</th>\n",
       "      <th>PVOUT_month_7</th>\n",
       "      <th>PVOUT_month_8</th>\n",
       "      <th>PVOUT_month_9</th>\n",
       "      <th>PVOUT_month_10</th>\n",
       "      <th>PVOUT_month_11</th>\n",
       "      <th>PVOUT_month_12</th>\n",
       "      <th>geometry</th>\n",
       "    </tr>\n",
       "  </thead>\n",
       "  <tbody>\n",
       "    <tr>\n",
       "      <th>0</th>\n",
       "      <td>way/4392200</td>\n",
       "      <td>J3MX+763, Marikina, 1800 Metro Manila, Philipp...</td>\n",
       "      <td>4.0</td>\n",
       "      <td>6.5472</td>\n",
       "      <td>1.00</td>\n",
       "      <td>1.217989e+03</td>\n",
       "      <td>98.591349</td>\n",
       "      <td>103.947040</td>\n",
       "      <td>121.755624</td>\n",
       "      <td>123.893457</td>\n",
       "      <td>...</td>\n",
       "      <td>139.745200</td>\n",
       "      <td>129.662424</td>\n",
       "      <td>112.013180</td>\n",
       "      <td>103.904954</td>\n",
       "      <td>100.557832</td>\n",
       "      <td>103.257441</td>\n",
       "      <td>107.600121</td>\n",
       "      <td>108.328293</td>\n",
       "      <td>99.944000</td>\n",
       "      <td>POLYGON ((121.09815 14.63357, 121.09786 14.633...</td>\n",
       "    </tr>\n",
       "    <tr>\n",
       "      <th>1</th>\n",
       "      <td>way/4947814</td>\n",
       "      <td>1800 Riverbanks Ave, Marikina, 1800 Metro Mani...</td>\n",
       "      <td>3308.0</td>\n",
       "      <td>5414.5344</td>\n",
       "      <td>827.00</td>\n",
       "      <td>9.277296e+05</td>\n",
       "      <td>69743.788426</td>\n",
       "      <td>75217.508363</td>\n",
       "      <td>91279.128872</td>\n",
       "      <td>96706.868274</td>\n",
       "      <td>...</td>\n",
       "      <td>115217.646057</td>\n",
       "      <td>107649.768250</td>\n",
       "      <td>93211.169243</td>\n",
       "      <td>86601.787918</td>\n",
       "      <td>83909.898880</td>\n",
       "      <td>85792.978233</td>\n",
       "      <td>88627.108849</td>\n",
       "      <td>88720.558990</td>\n",
       "      <td>81782.029495</td>\n",
       "      <td>POLYGON ((121.08072 14.62996, 121.08078 14.629...</td>\n",
       "    </tr>\n",
       "    <tr>\n",
       "      <th>2</th>\n",
       "      <td>way/4947816</td>\n",
       "      <td>300 Riverbanks Ave, Sto. Nino, Marikina, 1800 ...</td>\n",
       "      <td>15753.0</td>\n",
       "      <td>25784.5104</td>\n",
       "      <td>3938.25</td>\n",
       "      <td>4.419620e+06</td>\n",
       "      <td>324317.626238</td>\n",
       "      <td>354160.387099</td>\n",
       "      <td>434811.218795</td>\n",
       "      <td>465435.831807</td>\n",
       "      <td>...</td>\n",
       "      <td>548677.018845</td>\n",
       "      <td>512638.089249</td>\n",
       "      <td>443880.153894</td>\n",
       "      <td>412405.672634</td>\n",
       "      <td>399586.649654</td>\n",
       "      <td>408554.046587</td>\n",
       "      <td>422050.437029</td>\n",
       "      <td>422495.455193</td>\n",
       "      <td>389453.540096</td>\n",
       "      <td>POLYGON ((121.08178 14.63214, 121.08150 14.631...</td>\n",
       "    </tr>\n",
       "    <tr>\n",
       "      <th>3</th>\n",
       "      <td>way/5105906</td>\n",
       "      <td>Block 5 Lot 33 C M Recto Santo Nino, Marikina,...</td>\n",
       "      <td>16260.0</td>\n",
       "      <td>26614.3680</td>\n",
       "      <td>4065.00</td>\n",
       "      <td>4.557989e+06</td>\n",
       "      <td>343586.623491</td>\n",
       "      <td>370718.567004</td>\n",
       "      <td>449602.075437</td>\n",
       "      <td>474947.640560</td>\n",
       "      <td>...</td>\n",
       "      <td>561999.262574</td>\n",
       "      <td>517432.740888</td>\n",
       "      <td>449102.866865</td>\n",
       "      <td>414614.597758</td>\n",
       "      <td>400319.467229</td>\n",
       "      <td>416293.444808</td>\n",
       "      <td>439217.701101</td>\n",
       "      <td>444049.161731</td>\n",
       "      <td>411670.801334</td>\n",
       "      <td>POLYGON ((121.11541 14.66517, 121.11576 14.663...</td>\n",
       "    </tr>\n",
       "    <tr>\n",
       "      <th>4</th>\n",
       "      <td>way/5106137</td>\n",
       "      <td>109 C.M. Recto St, Marikina, Metro Manila, Phi...</td>\n",
       "      <td>241.0</td>\n",
       "      <td>394.4688</td>\n",
       "      <td>60.25</td>\n",
       "      <td>6.861694e+04</td>\n",
       "      <td>4946.321805</td>\n",
       "      <td>5424.338459</td>\n",
       "      <td>6698.190303</td>\n",
       "      <td>7265.158977</td>\n",
       "      <td>...</td>\n",
       "      <td>8332.575184</td>\n",
       "      <td>7663.378298</td>\n",
       "      <td>6647.984779</td>\n",
       "      <td>6135.558695</td>\n",
       "      <td>5920.767298</td>\n",
       "      <td>6163.575184</td>\n",
       "      <td>6512.844257</td>\n",
       "      <td>6593.760147</td>\n",
       "      <td>6109.410309</td>\n",
       "      <td>POLYGON ((121.11880 14.66317, 121.11900 14.663...</td>\n",
       "    </tr>\n",
       "  </tbody>\n",
       "</table>\n",
       "<p>5 rows × 32 columns</p>\n",
       "</div>"
      ],
      "text/plain": [
       "            id                                            address  num_panels  \\\n",
       "0  way/4392200  J3MX+763, Marikina, 1800 Metro Manila, Philipp...         4.0   \n",
       "1  way/4947814  1800 Riverbanks Ave, Marikina, 1800 Metro Mani...      3308.0   \n",
       "2  way/4947816  300 Riverbanks Ave, Sto. Nino, Marikina, 1800 ...     15753.0   \n",
       "3  way/5105906  Block 5 Lot 33 C M Recto Santo Nino, Marikina,...     16260.0   \n",
       "4  way/5106137  109 C.M. Recto St, Marikina, Metro Manila, Phi...       241.0   \n",
       "\n",
       "   panel_area      kWp     total_kwh    avg_month_1    avg_month_2  \\\n",
       "0      6.5472     1.00  1.217989e+03      98.591349     103.947040   \n",
       "1   5414.5344   827.00  9.277296e+05   69743.788426   75217.508363   \n",
       "2  25784.5104  3938.25  4.419620e+06  324317.626238  354160.387099   \n",
       "3  26614.3680  4065.00  4.557989e+06  343586.623491  370718.567004   \n",
       "4    394.4688    60.25  6.861694e+04    4946.321805    5424.338459   \n",
       "\n",
       "     avg_month_3    avg_month_4  ...  PVOUT_month_4  PVOUT_month_5  \\\n",
       "0     121.755624     123.893457  ...     139.745200     129.662424   \n",
       "1   91279.128872   96706.868274  ...  115217.646057  107649.768250   \n",
       "2  434811.218795  465435.831807  ...  548677.018845  512638.089249   \n",
       "3  449602.075437  474947.640560  ...  561999.262574  517432.740888   \n",
       "4    6698.190303    7265.158977  ...    8332.575184    7663.378298   \n",
       "\n",
       "   PVOUT_month_6  PVOUT_month_7  PVOUT_month_8  PVOUT_month_9  PVOUT_month_10  \\\n",
       "0     112.013180     103.904954     100.557832     103.257441      107.600121   \n",
       "1   93211.169243   86601.787918   83909.898880   85792.978233    88627.108849   \n",
       "2  443880.153894  412405.672634  399586.649654  408554.046587   422050.437029   \n",
       "3  449102.866865  414614.597758  400319.467229  416293.444808   439217.701101   \n",
       "4    6647.984779    6135.558695    5920.767298    6163.575184     6512.844257   \n",
       "\n",
       "   PVOUT_month_11  PVOUT_month_12  \\\n",
       "0      108.328293       99.944000   \n",
       "1    88720.558990    81782.029495   \n",
       "2   422495.455193   389453.540096   \n",
       "3   444049.161731   411670.801334   \n",
       "4     6593.760147     6109.410309   \n",
       "\n",
       "                                            geometry  \n",
       "0  POLYGON ((121.09815 14.63357, 121.09786 14.633...  \n",
       "1  POLYGON ((121.08072 14.62996, 121.08078 14.629...  \n",
       "2  POLYGON ((121.08178 14.63214, 121.08150 14.631...  \n",
       "3  POLYGON ((121.11541 14.66517, 121.11576 14.663...  \n",
       "4  POLYGON ((121.11880 14.66317, 121.11900 14.663...  \n",
       "\n",
       "[5 rows x 32 columns]"
      ]
     },
     "execution_count": 6,
     "metadata": {},
     "output_type": "execute_result"
    }
   ],
   "source": [
    "gdf.head()"
   ]
  },
  {
   "cell_type": "markdown",
   "metadata": {
    "id": "OArV4beaQfhS"
   },
   "source": [
    "# Performing Hypothesis Testing"
   ]
  },
  {
   "cell_type": "markdown",
   "metadata": {
    "id": "VLgI9WWnQoXk"
   },
   "source": [
    "To compare the solar potential predicted with the one from GSA, we first generate the difference column named *kwh_difference* which is the result of the subtraction of the *total_kwh* column from the *PVOUT_yearly* column."
   ]
  },
  {
   "cell_type": "code",
   "execution_count": 7,
   "metadata": {
    "colab": {
     "base_uri": "https://localhost:8080/",
     "height": 312
    },
    "id": "pVVrcziAQn5P",
    "outputId": "1a79ce71-3c50-4cc9-a87e-58fbe62a76b5"
   },
   "outputs": [
    {
     "data": {
      "text/plain": [
       "Text(0.5, 0, 'kWh')"
      ]
     },
     "execution_count": 7,
     "metadata": {},
     "output_type": "execute_result"
    },
    {
     "data": {
      "image/png": "[encoded data removed]",
      "text/plain": [
       "<Figure size 432x288 with 1 Axes>"
      ]
     },
     "metadata": {
      "needs_background": "light"
     },
     "output_type": "display_data"
    }
   ],
   "source": [
    "gdf['kwh_difference'] = gdf['total_kwh'] - gdf['PVOUT_yearly']\n",
    "ax = gdf['kwh_difference'].plot(kind=\"hist\", title=\"Difference between predictions from Sinagpala against GSA\", bins=25)\n",
    "ax.set_xlabel('kWh')"
   ]
  },
  {
   "cell_type": "markdown",
   "metadata": {
    "id": "xzxDogNa1ct-"
   },
   "source": [
    "We can see that our data has a left-skewed distribution with outliers."
   ]
  },
  {
   "cell_type": "code",
   "execution_count": 8,
   "metadata": {
    "colab": {
     "base_uri": "https://localhost:8080/",
     "height": 347
    },
    "id": "U15o-I681Z2V",
    "outputId": "17835b39-5f7d-4b16-96ab-ed60aea46a88"
   },
   "outputs": [
    {
     "name": "stdout",
     "output_type": "stream",
     "text": [
      "Original:  36084\n",
      "W/o outliers:  32625\n"
     ]
    },
    {
     "data": {
      "text/plain": [
       "Text(0.5, 0, 'kWh')"
      ]
     },
     "execution_count": 8,
     "metadata": {},
     "output_type": "execute_result"
    },
    {
     "data": {
      "image/png": "[encoded data removed]",
      "text/plain": [
       "<Figure size 432x288 with 1 Axes>"
      ]
     },
     "metadata": {
      "needs_background": "light"
     },
     "output_type": "display_data"
    }
   ],
   "source": [
    "# Remove outliers\n",
    "# clean_gdf = gdf[(np.abs(stats.zscore(gdf['kwh_difference'])) < 3)]\n",
    "cols = ['kwh_difference'] # one or more\n",
    "\n",
    "Q1 = gdf[cols].quantile(0.25)\n",
    "Q3 = gdf[cols].quantile(0.75)\n",
    "# Merge GSA and Sinagpala Predictions:\n",
    "IQR = Q3 - Q1\n",
    "\n",
    "clean_gdf = gdf[~((gdf[cols] < (Q1 - 1.5 * IQR)) |(gdf[cols] > (Q3 + 1.5 * IQR))).any(axis=1)]\n",
    "\n",
    "# Remove panels with 0 total kwh\n",
    "clean_gdf = clean_gdf[(clean_gdf['total_kwh'] > 0) & (clean_gdf['PVOUT_yearly'] > 0)]\n",
    "\n",
    "print(\"Original: \", len(gdf))\n",
    "print(\"W/o outliers: \", len(clean_gdf))\n",
    "\n",
    "# Plot the new df\n",
    "ax = clean_gdf['kwh_difference'].plot(kind=\"hist\", title=\"Difference between predictions from Sinagpala against GSA (Without Outliers)\", xlabel=\"kWh\", bins=25)\n",
    "ax.set_xlabel('kWh')"
   ]
  },
  {
   "cell_type": "code",
   "execution_count": 28,
   "metadata": {},
   "outputs": [
    {
     "data": {
      "text/plain": [
       "-3645.94290331893"
      ]
     },
     "execution_count": 28,
     "metadata": {},
     "output_type": "execute_result"
    }
   ],
   "source": [
    "min(clean_gdf['kwh_difference'])"
   ]
  },
  {
   "cell_type": "code",
   "execution_count": 29,
   "metadata": {},
   "outputs": [
    {
     "data": {
      "text/plain": [
       "-33.541825527189985"
      ]
     },
     "execution_count": 29,
     "metadata": {},
     "output_type": "execute_result"
    }
   ],
   "source": [
    "max(clean_gdf['kwh_difference'])"
   ]
  },
  {
   "cell_type": "markdown",
   "metadata": {
    "id": "EsxJHwrB-DSx"
   },
   "source": [
    "Had our data conformed to the normal distribution, we could have used the **paired t-test** which measures the mean difference between pairs of measurements. \n",
    "\n",
    "An alternative to this is the **Wilcoxon signed-rank** test which is a nonparametric test that functions similarly as the paired t-test for data with nonuniform distributions.\n",
    "\n",
    "To test if there is a difference between the two values, we can perform a two-sided test where the:\n",
    "\n",
    "**Null Hypothesis**:median of the differences is zero \n",
    "\n",
    "**Alt Hypothesis**: median of the differences is different from zero"
   ]
  },
  {
   "cell_type": "code",
   "execution_count": 30,
   "metadata": {
    "colab": {
     "base_uri": "https://localhost:8080/"
    },
    "id": "7XLrFFut6vin",
    "outputId": "3aed772d-ae4b-461a-bf98-bae561dab1fe"
   },
   "outputs": [
    {
     "name": "stdout",
     "output_type": "stream",
     "text": [
      "P-value:  0.0\n"
     ]
    }
   ],
   "source": [
    "w, p = stats.wilcoxon(clean_gdf['kwh_difference'], alternative='two-sided')\n",
    "\n",
    "# Get the p-value\n",
    "print(\"P-value: \", p)"
   ]
  },
  {
   "cell_type": "markdown",
   "metadata": {
    "id": "SWIv5pCfCHXx"
   },
   "source": [
    "With a p-value of 0 we have strong evidence to reject the null hypothesis meaning there is a difference between the predicted pv of the two."
   ]
  },
  {
   "cell_type": "code",
   "execution_count": 31,
   "metadata": {
    "colab": {
     "base_uri": "https://localhost:8080/"
    },
    "id": "VMGbtnYKCG1P",
    "outputId": "c48157cc-5dc0-492b-f435-960efe148599"
   },
   "outputs": [
    {
     "name": "stdout",
     "output_type": "stream",
     "text": [
      "P-value:  1.0\n"
     ]
    }
   ],
   "source": [
    "# Perform an upper-tailed test\n",
    "w, p = stats.wilcoxon(clean_gdf['kwh_difference'], alternative='greater')\n",
    "\n",
    "# Get the p-value\n",
    "print(\"P-value: \", p)"
   ]
  },
  {
   "cell_type": "code",
   "execution_count": 32,
   "metadata": {
    "id": "wO0kQuUiLiBd"
   },
   "outputs": [],
   "source": [
    "def get_change(current, previous):\n",
    "    if current == previous:\n",
    "        return 100.0\n",
    "    try:\n",
    "        return (abs(current - previous) / previous) * 100.0\n",
    "    except ZeroDivisionError:\n",
    "        return 0"
   ]
  },
  {
   "cell_type": "markdown",
   "metadata": {
    "id": "xrSourQiM0K8"
   },
   "source": [
    "Visualize the percent difference between total_kwh and PVOUT_yearly"
   ]
  },
  {
   "cell_type": "code",
   "execution_count": 33,
   "metadata": {
    "id": "7m6ZRQdLK-AE"
   },
   "outputs": [],
   "source": [
    "clean_gdf['percent_difference'] = clean_gdf.apply(lambda x: get_change(x.total_kwh, x.PVOUT_yearly), axis=1)"
   ]
  },
  {
   "cell_type": "code",
   "execution_count": 34,
   "metadata": {
    "colab": {
     "base_uri": "https://localhost:8080/",
     "height": 206
    },
    "id": "4dAJ5R_zL0gz",
    "outputId": "0a5308ca-d34b-4898-c4d8-5e973840b340"
   },
   "outputs": [
    {
     "data": {
      "text/html": [
       "<div>\n",
       "<style scoped>\n",
       "    .dataframe tbody tr th:only-of-type {\n",
       "        vertical-align: middle;\n",
       "    }\n",
       "\n",
       "    .dataframe tbody tr th {\n",
       "        vertical-align: top;\n",
       "    }\n",
       "\n",
       "    .dataframe thead th {\n",
       "        text-align: right;\n",
       "    }\n",
       "</style>\n",
       "<table border=\"1\" class=\"dataframe\">\n",
       "  <thead>\n",
       "    <tr style=\"text-align: right;\">\n",
       "      <th></th>\n",
       "      <th>total_kwh</th>\n",
       "      <th>PVOUT_yearly</th>\n",
       "      <th>percent_difference</th>\n",
       "    </tr>\n",
       "  </thead>\n",
       "  <tbody>\n",
       "    <tr>\n",
       "      <th>0</th>\n",
       "      <td>1217.988704</td>\n",
       "      <td>1361.234589</td>\n",
       "      <td>10.523233</td>\n",
       "    </tr>\n",
       "    <tr>\n",
       "      <th>59</th>\n",
       "      <td>25882.259955</td>\n",
       "      <td>28966.152039</td>\n",
       "      <td>10.646537</td>\n",
       "    </tr>\n",
       "    <tr>\n",
       "      <th>73</th>\n",
       "      <td>7545.717269</td>\n",
       "      <td>8843.614197</td>\n",
       "      <td>14.676092</td>\n",
       "    </tr>\n",
       "    <tr>\n",
       "      <th>76</th>\n",
       "      <td>15676.747602</td>\n",
       "      <td>19047.784424</td>\n",
       "      <td>17.697790</td>\n",
       "    </tr>\n",
       "    <tr>\n",
       "      <th>78</th>\n",
       "      <td>9724.049856</td>\n",
       "      <td>11564.726257</td>\n",
       "      <td>15.916299</td>\n",
       "    </tr>\n",
       "  </tbody>\n",
       "</table>\n",
       "</div>"
      ],
      "text/plain": [
       "       total_kwh  PVOUT_yearly  percent_difference\n",
       "0    1217.988704   1361.234589           10.523233\n",
       "59  25882.259955  28966.152039           10.646537\n",
       "73   7545.717269   8843.614197           14.676092\n",
       "76  15676.747602  19047.784424           17.697790\n",
       "78   9724.049856  11564.726257           15.916299"
      ]
     },
     "execution_count": 34,
     "metadata": {},
     "output_type": "execute_result"
    }
   ],
   "source": [
    "clean_gdf.head()[['total_kwh', 'PVOUT_yearly', 'percent_difference']]"
   ]
  },
  {
   "cell_type": "code",
   "execution_count": 35,
   "metadata": {
    "colab": {
     "base_uri": "https://localhost:8080/",
     "height": 313
    },
    "id": "7wZjERTlMzPU",
    "outputId": "78797ceb-c0a7-4923-c318-61f11d92c2f8"
   },
   "outputs": [
    {
     "data": {
      "text/plain": [
       "Text(0.5, 0, 'Percentage')"
      ]
     },
     "execution_count": 35,
     "metadata": {},
     "output_type": "execute_result"
    },
    {
     "data": {
      "image/png": "[encoded data removed]",
      "text/plain": [
       "<Figure size 432x288 with 1 Axes>"
      ]
     },
     "metadata": {
      "needs_background": "light"
     },
     "output_type": "display_data"
    }
   ],
   "source": [
    "ax = clean_gdf['percent_difference'].plot(kind=\"hist\", title=\"Percentage difference between predictions from Sinagpala against GSA\", xlabel=\"kWh\", bins=25)\n",
    "ax.set_xlabel('Percentage')"
   ]
  },
  {
   "cell_type": "code",
   "execution_count": 36,
   "metadata": {},
   "outputs": [
    {
     "data": {
      "text/plain": [
       "9.92247207625192"
      ]
     },
     "execution_count": 36,
     "metadata": {},
     "output_type": "execute_result"
    }
   ],
   "source": [
    "min(clean_gdf['percent_difference'])"
   ]
  },
  {
   "cell_type": "code",
   "execution_count": 37,
   "metadata": {},
   "outputs": [
    {
     "data": {
      "text/plain": [
       "26.100900978448127"
      ]
     },
     "execution_count": 37,
     "metadata": {},
     "output_type": "execute_result"
    }
   ],
   "source": [
    "max(clean_gdf['percent_difference'])"
   ]
  },
  {
   "cell_type": "markdown",
   "metadata": {
    "id": "5VM6yki4NIzF"
   },
   "source": [
    "From the graph, we can see that we have a right skewed distribution. As such, we can use the median to measure central tendency. "
   ]
  },
  {
   "cell_type": "code",
   "execution_count": 38,
   "metadata": {
    "colab": {
     "base_uri": "https://localhost:8080/"
    },
    "id": "dxpBJAFBNIXW",
    "outputId": "9a5ab04c-5828-4ee0-99b2-dca3e2f9259a"
   },
   "outputs": [
    {
     "data": {
      "text/plain": [
       "14.233560766715826"
      ]
     },
     "execution_count": 38,
     "metadata": {},
     "output_type": "execute_result"
    }
   ],
   "source": [
    "# Get the average percentage difference between the two \n",
    "clean_gdf['percent_difference'].median()"
   ]
  },
  {
   "cell_type": "code",
   "execution_count": 39,
   "metadata": {
    "id": "6PHS1mOegZnW"
   },
   "outputs": [
    {
     "data": {
      "text/plain": [
       "14.233560766715826"
      ]
     },
     "execution_count": 39,
     "metadata": {},
     "output_type": "execute_result"
    }
   ],
   "source": [
    "# Get the average percentage difference between the two \n",
    "clean_gdf['percent_difference'].median()"
   ]
  },
  {
   "cell_type": "code",
   "execution_count": 40,
   "metadata": {
    "id": "SnUHnhnnNoE0"
   },
   "outputs": [],
   "source": [
    "hypotest_dict = {}\n",
    "\n",
    "for i in range (1, 13): \n",
    "  clean_gdf['kwh_difference'] = clean_gdf['avg_month_{}'.format(i)] - clean_gdf['PVOUT_month_{}'.format(i)] \n",
    "  w, p = stats.wilcoxon(clean_gdf['kwh_difference'], alternative='two-sided')\n",
    "  hypotest_dict[i] = p"
   ]
  },
  {
   "cell_type": "code",
   "execution_count": 41,
   "metadata": {
    "colab": {
     "base_uri": "https://localhost:8080/"
    },
    "id": "VSSTvp6uNyeI",
    "outputId": "0088b37a-71b6-45ae-ef92-5a4f927a2e78"
   },
   "outputs": [
    {
     "data": {
      "text/plain": [
       "{1: 0.0,\n",
       " 2: 0.0,\n",
       " 3: 0.0,\n",
       " 4: 0.0,\n",
       " 5: 0.0,\n",
       " 6: 0.0,\n",
       " 7: 0.0,\n",
       " 8: 0.0,\n",
       " 9: 0.0,\n",
       " 10: 0.0,\n",
       " 11: 0.0,\n",
       " 12: 0.0}"
      ]
     },
     "execution_count": 41,
     "metadata": {},
     "output_type": "execute_result"
    }
   ],
   "source": [
    "hypotest_dict"
   ]
  }
 ],
 "metadata": {
  "colab": {
   "collapsed_sections": [],
   "name": "Hypo_Testing_File_Overview.ipynb",
   "provenance": []
  },
  "kernelspec": {
   "display_name": "pipeline",
   "language": "python",
   "name": "pipeline"
  },
  "language_info": {
   "codemirror_mode": {
    "name": "ipython",
    "version": 3
   },
   "file_extension": ".py",
   "mimetype": "text/x-python",
   "name": "python",
   "nbconvert_exporter": "python",
   "pygments_lexer": "ipython3",
   "version": "3.9.9"
  }
 },
 "nbformat": 4,
 "nbformat_minor": 1
}
